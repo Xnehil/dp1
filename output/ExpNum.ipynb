{
 "cells": [
  {
   "cell_type": "code",
   "execution_count": null,
   "metadata": {},
   "outputs": [],
   "source": [
    "import pandas as pd\n",
    "import statsmodels.api as sm\n",
    "import scipy.stats as stats\n",
    "import matplotlib.pyplot as plt"
   ]
  },
  {
   "cell_type": "code",
   "execution_count": null,
   "metadata": {},
   "outputs": [],
   "source": [
    "num_iter=500\n",
    "num_pop=120\n",
    "df_mpa=pd.read_csv('MPA_{}Iter_{}Pop.csv'.format(num_iter,num_pop))\n",
    "df_mpa['Porcentaje de paquetes entregados'] = df_mpa['Porcentaje de paquetes entregados'].str.rstrip('%').astype('float') /100\n",
    "#Leer aquí el archivo de ACO"
   ]
  },
  {
   "cell_type": "markdown",
   "metadata": {},
   "source": [
    "# Normalidad"
   ]
  },
  {
   "cell_type": "markdown",
   "metadata": {},
   "source": [
    "Referencia: https://www.ncbi.nlm.nih.gov/pmc/articles/PMC6350423/\n",
    "\n",
    "Usaremos el test de Shapiro-Wilk para determinar si una muestra de datos sigue una distribución normal dado que nuestro dataset es pequeño (menos de 50 observaciones)."
   ]
  },
  {
   "cell_type": "code",
   "execution_count": null,
   "metadata": {},
   "outputs": [],
   "source": [
    "#Testear normalidad de Tiempo de ejecucion\n",
    "print('Test de normalidad de Tiempo de ejecucion')\n",
    "\n",
    "#Plot\n",
    "# df_mpa['Tiempo de ejecucion (ms)'].plot(kind='hist', title='Histograma de Tiempo de ejecucion')\n",
    "# plt.show()\n",
    "\n",
    "#Test de Shapiro-Wilk\n",
    "shapiro_test = stats.shapiro(df_mpa['Tiempo de ejecucion (ms)'])\n",
    "print('Shapiro-Wilk Test para Tiempo de ejecucion')\n",
    "print('Estadistico:', shapiro_test[0])\n",
    "print('P-valor:', shapiro_test[1])\n",
    "\n",
    "#Test de normalidad de Porcentaje de paquetes entregados\n",
    "print('Test de normalidad de Porcentaje de paquetes entregados')\n",
    "\n",
    "#Plot\n",
    "# df_mpa['Porcentaje de paquetes entregados'].plot(kind='hist', title='Histograma de Porcentaje de paquetes entregados')\n",
    "# plt.show()\n",
    "\n",
    "#Test de Shapiro-Wilk\n",
    "shapiro_test = stats.shapiro(df_mpa['Porcentaje de paquetes entregados'])\n",
    "print('Shapiro-Wilk Test para Porcentaje de paquetes entregados')\n",
    "print('Estadistico:', shapiro_test[0])\n",
    "print('P-valor:', shapiro_test[1])\n",
    "\n",
    "\n"
   ]
  },
  {
   "cell_type": "code",
   "execution_count": 20,
   "metadata": {},
   "outputs": [],
   "source": [
    "#Completar aquí\n"
   ]
  },
  {
   "cell_type": "markdown",
   "metadata": {},
   "source": [
    "# Homocedasticidad (igualdad de varianzas)"
   ]
  },
  {
   "cell_type": "markdown",
   "metadata": {},
   "source": [
    "Aquí para tiempo de ejecución "
   ]
  },
  {
   "cell_type": "code",
   "execution_count": 23,
   "metadata": {},
   "outputs": [
    {
     "name": "stdout",
     "output_type": "stream",
     "text": [
      "Resultado de la prueba de Levene para Tiempo de ejecucion: Estadístico de prueba: 0.0, p-valor: 1.0\n",
      "Las varianzas de los dos algoritmos son iguales\n"
     ]
    }
   ],
   "source": [
    "#Se usará la prueba de Fisher para comparar las varianzas de los dos algoritmos\n",
    "#H0: Las varianzas son iguales\n",
    "#H1: Las varianzas son diferentes\n",
    "\n",
    "\n",
    "df_other=df_mpa ##Cambiar para ACO\n",
    "\n",
    "# Levene's test para la igualdad de varianzas\n",
    "w, p_value = stats.levene(df_mpa['Tiempo de ejecucion (ms)'], df_other['Tiempo de ejecucion (ms)'])\n",
    "print(f\"Resultado de la prueba de Levene para Tiempo de ejecucion: Estadístico de prueba: {w}, p-valor: {p_value}\")\n",
    "\n",
    "# Si el p-valor es mayor a 0.05, se acepta la hipótesis nula\n",
    "if p_value > 0.05:\n",
    "    print(\"Las varianzas de los dos algoritmos son iguales\")\n",
    "else:\n",
    "    print(\"Las varianzas de los dos algoritmos son diferentes\")\n"
   ]
  },
  {
   "cell_type": "markdown",
   "metadata": {},
   "source": [
    "Aquí para porcentaje de entrega"
   ]
  },
  {
   "cell_type": "code",
   "execution_count": 25,
   "metadata": {},
   "outputs": [
    {
     "name": "stdout",
     "output_type": "stream",
     "text": [
      "Resultado de la prueba de Levene para Porcentaje de paquetes entregados: Estadístico de prueba: 0.0, p-valor: 1.0\n",
      "Las varianzas de los dos algoritmos son iguales\n"
     ]
    }
   ],
   "source": [
    "#Se usará la prueba de Fisher para comparar las varianzas de los dos algoritmos\n",
    "#H0: Las varianzas son iguales\n",
    "#H1: Las varianzas son diferentes\n",
    "\n",
    "\n",
    "df_other=df_mpa ##Cambiar para ACO\n",
    "\n",
    "# Levene's test para la igualdad de varianzas\n",
    "w, p_value = stats.levene(df_mpa['Porcentaje de paquetes entregados'], df_other['Porcentaje de paquetes entregados'])\n",
    "print(f\"Resultado de la prueba de Levene para Porcentaje de paquetes entregados: Estadístico de prueba: {w}, p-valor: {p_value}\")\n",
    "\n",
    "# Si el p-valor es mayor a 0.05, se acepta la hipótesis nula\n",
    "if p_value > 0.05:\n",
    "    print(\"Las varianzas de los dos algoritmos son iguales\")\n",
    "else:\n",
    "    print(\"Las varianzas de los dos algoritmos son diferentes\")"
   ]
  },
  {
   "cell_type": "markdown",
   "metadata": {},
   "source": [
    "# Para comparar los dos algoritmos"
   ]
  },
  {
   "cell_type": "markdown",
   "metadata": {},
   "source": [
    "Dado que se comprobó la normalidad de los datos y la homocedasticidad, se puede usar la prueba t de Student para comparar los dos algoritmos."
   ]
  },
  {
   "cell_type": "code",
   "execution_count": 29,
   "metadata": {},
   "outputs": [
    {
     "name": "stdout",
     "output_type": "stream",
     "text": [
      "Estadístico de prueba t: 0.0, p-valor: 1.0\n",
      "Estadístico de prueba U: 450.0, p-valor: 1.0\n"
     ]
    }
   ],
   "source": [
    "# Se usa la prueba t de Student para comparar las medias de los dos algoritmos\n",
    "t_stat, p_val = stats.ttest_ind(df_mpa['Tiempo de ejecucion (ms)'], df_other['Tiempo de ejecucion (ms)'])\n",
    "print(f\"Estadístico de prueba t: {t_stat}, p-valor: {p_val}\")\n",
    "      \n",
    "# Mann-Whitney solo para comprobar\n",
    "u_stat, p_val = stats.mannwhitneyu(df_mpa['Tiempo de ejecucion (ms)'], df_other['Tiempo de ejecucion (ms)'])\n",
    "print(f\"Estadístico de prueba U: {u_stat}, p-valor: {p_val}\")"
   ]
  },
  {
   "cell_type": "markdown",
   "metadata": {},
   "source": [
    "Y ahora para el porcentaje de entrega"
   ]
  },
  {
   "cell_type": "code",
   "execution_count": 28,
   "metadata": {},
   "outputs": [
    {
     "name": "stdout",
     "output_type": "stream",
     "text": [
      "T-test p-value: 1.0\n",
      "Mann-Whitney U test p-value: 1.0\n"
     ]
    }
   ],
   "source": [
    "t_stat, p_val = stats.ttest_ind(df_mpa['Porcentaje de paquetes entregados'], df_other['Porcentaje de paquetes entregados'])\n",
    "print(f\"Estadístico de prueba t: {t_stat}, p-valor: {p_val}\")\n",
    "\n",
    "# Mann-Whitney solo para comprobar\n",
    "u_stat, p_val = stats.mannwhitneyu(df_mpa['Porcentaje de paquetes entregados'], df_other['Porcentaje de paquetes entregados'])\n",
    "print(f\"Estadístico de prueba U: {u_stat}, p-valor: {p_val}\")"
   ]
  }
 ],
 "metadata": {
  "kernelspec": {
   "display_name": "Python 3",
   "language": "python",
   "name": "python3"
  },
  "language_info": {
   "codemirror_mode": {
    "name": "ipython",
    "version": 3
   },
   "file_extension": ".py",
   "mimetype": "text/x-python",
   "name": "python",
   "nbconvert_exporter": "python",
   "pygments_lexer": "ipython3",
   "version": "3.11.9"
  }
 },
 "nbformat": 4,
 "nbformat_minor": 2
}
